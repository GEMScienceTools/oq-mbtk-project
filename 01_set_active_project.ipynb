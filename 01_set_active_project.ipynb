{
 "cells": [
  {
   "cell_type": "markdown",
   "metadata": {},
   "source": [
    "# Set the active project\n",
    "\n",
    "This notebook creates a file in your home containing the path to the currently active project."
   ]
  },
  {
   "cell_type": "code",
   "execution_count": null,
   "metadata": {},
   "outputs": [],
   "source": [
    "import os\n",
    "project_dir = os.path.abspath(os.path.join('./', 'project'))\n",
    "fname = os.path.join(os.environ['HOME'], '.mbtk_active_project')\n",
    "fou = open(fname, 'w')\n",
    "fou.write('{:s}'.format(fname))\n",
    "fou.close()"
   ]
  }
 ],
 "metadata": {
  "kernelspec": {
   "display_name": "Python 3",
   "language": "python",
   "name": "python3"
  },
  "language_info": {
   "codemirror_mode": {
    "name": "ipython",
    "version": 3
   },
   "file_extension": ".py",
   "mimetype": "text/x-python",
   "name": "python",
   "nbconvert_exporter": "python",
   "pygments_lexer": "ipython3",
   "version": "3.6.8"
  }
 },
 "nbformat": 4,
 "nbformat_minor": 2
}
