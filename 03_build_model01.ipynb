{
 "cells": [
  {
   "cell_type": "markdown",
   "metadata": {},
   "source": [
    "# Model \n",
    "\n"
   ]
  },
  {
   "cell_type": "code",
   "execution_count": null,
   "metadata": {},
   "outputs": [],
   "source": [
    "import re\n",
    "import os\n",
    "import time\n",
    "import numpy\n",
    "import pickle\n",
    "import openquake.mbt as mbt\n",
    "import openquake.mbt.tools.notebook as nb\n",
    "from prettytable import PrettyTable\n",
    "from openquake.hazardlib.const import TRT\n",
    "from openquake.mbt.oqt_project import OQtProject, OQtModel\n",
    "from openquake.mbt.guis.utils import processing_out\n",
    "from openquake.mbt.tools import automator\n",
    "from openquake.mbt.tools.utils import GetSourceIDs\n",
    "from openquake.mbt.tools.utils import get_time"
   ]
  },
  {
   "cell_type": "code",
   "execution_count": null,
   "metadata": {},
   "outputs": [],
   "source": [
    "prj_path = \"./project/test.oqmbtp\"\n",
    "os.environ[\"OQMBT_PROJECT\"] = prj_path"
   ]
  },
  {
   "cell_type": "markdown",
   "metadata": {},
   "source": [
    "## Load the project and set the active model"
   ]
  },
  {
   "cell_type": "code",
   "execution_count": null,
   "metadata": {},
   "outputs": [],
   "source": [
    "time_start = time_cell = time.time()\n",
    "project_pickle_filename = os.environ.get('OQMBT_PROJECT')\n",
    "oqtkp = OQtProject.load_from_file(project_pickle_filename)"
   ]
  },
  {
   "cell_type": "code",
   "execution_count": null,
   "metadata": {},
   "outputs": [],
   "source": [
    "model_id = 'model01'\n",
    "oqtkp.active_model_id = model_id\n",
    "\n",
    "if model_id not in oqtkp.models.keys():\n",
    "    model = OQtModel(model_id='model01', name='Area source based model')\n",
    "    oqtkp.add_model(model)\n",
    "    oqtkp.save()\n",
    "\n",
    "oqtkp = OQtProject.load_from_file(project_pickle_filename)  \n",
    "model = oqtkp.models[model_id]"
   ]
  },
  {
   "cell_type": "code",
   "execution_count": null,
   "metadata": {},
   "outputs": [],
   "source": [
    "# create reports folder\n",
    "reports_folder = os.path.join(oqtkp.directory, 'reports/{:s}'.format(model_id))\n",
    "print(reports_folder)\n",
    "if not os.path.exists(reports_folder):\n",
    "    tmp = os.path.join(oqtkp.directory, 'reports')\n",
    "    if not os.path.exists(tmp):\n",
    "        os.mkdir(tmp)\n",
    "    os.mkdir(reports_folder)\n",
    "    \n",
    "# Setting variables - Note that paths are relative to the positon of the .oqtkp with the project data\n",
    "model.area_shapefile_filename = './../data/model01/shp/completeness_superzones_ESHM13.shp'\n",
    "model.focal_mechanisms_filename = './../data/catalogues/GCMT.ndk'\n",
    "model.focal_mechanisms_filename = './../data/catalogues/jan76_dec13.ndk'\n",
    "model.catalogue_csv_filename = './../data/catalogues/CPTI15_v1.5_fixed.csv'\n",
    "\n",
    "tk_path = re.sub('openquake/mbt', '', os.path.dirname(mbt.__file__))\n",
    "oqtkp.save()"
   ]
  },
  {
   "cell_type": "markdown",
   "metadata": {},
   "source": [
    "## Catalogue pre-processing"
   ]
  },
  {
   "cell_type": "code",
   "execution_count": null,
   "metadata": {},
   "outputs": [],
   "source": [
    "from openquake.hmtk.parsers.catalogue.csv_catalogue_parser import CsvCatalogueParser\n",
    "catalogue_parser = CsvCatalogueParser(os.path.join(oqtkp.directory, model.catalogue_csv_filename))\n",
    "catalogue = catalogue_parser.read_file()\n",
    "print(max(catalogue.data['magnitude']))"
   ]
  },
  {
   "cell_type": "code",
   "execution_count": null,
   "metadata": {},
   "outputs": [],
   "source": [
    "model.catalogue_cutoff_magnitude = 4.0\n",
    "model.mfd_binwidth = 0.1\n",
    "model.catalogue_maximum_depth = 200.0\n",
    "model.catalogue_minimum_depth = 0.0\n",
    "oqtkp.save()\n",
    "\n",
    "nb_name = 'catalogue_pre_processing.ipynb'\n",
    "nb_path = 'openquake/mbt/notebooks/catalogue'\n",
    "nb_full_path = os.path.join(tk_path, nb_path, nb_name)\n",
    "out = nb.run(nb_full_path, '')\n",
    "processing_out(out)\n",
    "time_cell = get_time(time_start, time_cell)"
   ]
  },
  {
   "cell_type": "markdown",
   "metadata": {},
   "source": [
    "## Area sources\n",
    "### Load data from shapefile into model\n",
    "Note that the shapefile attribute table must contain a ID"
   ]
  },
  {
   "cell_type": "code",
   "execution_count": null,
   "metadata": {},
   "outputs": [],
   "source": [
    "print('Loading data from %s' % (model.area_shapefile_filename))\n",
    "nb_name = 'load_geometry_from_shapefile.ipynb'\n",
    "nb_path = 'openquake/mbt/notebooks/sources_area'\n",
    "nb_full_path = os.path.join(tk_path, nb_path, nb_name)\n",
    "out = nb.run(nb_full_path, '')\n",
    "processing_out(out)\n",
    "time_cell = get_time(time_start, time_cell)"
   ]
  },
  {
   "cell_type": "markdown",
   "metadata": {},
   "source": [
    "#### Refresh model\n",
    "Refresh the model and set the default value for the upper seismogenic depth. This parameter will be used in one of the folloing processing steps."
   ]
  },
  {
   "cell_type": "code",
   "execution_count": null,
   "metadata": {},
   "outputs": [],
   "source": [
    "oqtkp = OQtProject.load_from_file(project_pickle_filename)\n",
    "model = oqtkp.models[model_id]\n",
    "get_src_ids = GetSourceIDs(model)\n",
    "oqtkp.save()\n",
    "time_cell = get_time(time_start, time_cell)"
   ]
  },
  {
   "cell_type": "code",
   "execution_count": null,
   "metadata": {},
   "outputs": [],
   "source": [
    "print('Number of sources in the model: %d ' % (len(model.sources.keys())))"
   ]
  },
  {
   "cell_type": "markdown",
   "metadata": {},
   "source": [
    "### Set completeness for all the area sources"
   ]
  },
  {
   "cell_type": "raw",
   "metadata": {},
   "source": [
    "nb_name = 'set_completeness_to_all_area_sources.ipynb'\n",
    "nb_path = 'openquake/mbt/notebooks/sources_area'\n",
    "nb_full_path = os.path.join(tk_path, nb_path, nb_name)\n",
    "out = nb.run(nb_full_path,'')\n",
    "processing_out(out)\n",
    "time_cell = get_time(time_start, time_cell)"
   ]
  },
  {
   "cell_type": "code",
   "execution_count": null,
   "metadata": {},
   "outputs": [],
   "source": [
    "oqtkp = OQtProject.load_from_file(project_pickle_filename)\n",
    "model = oqtkp.models[model_id]\n",
    "model.compl_data_folder = './../data/model01/completeness'\n",
    "oqtkp.save()\n",
    "\n",
    "nb_name = 'set_completeness_to_area_sources.ipynb'\n",
    "nb_path = 'openquake/mbt/notebooks/sources_area'\n",
    "nb_full_path = os.path.join(tk_path, nb_path, nb_name)\n",
    "out = nb.run(nb_full_path,'')\n",
    "processing_out(out)\n",
    "time_cell = get_time(time_start, time_cell)"
   ]
  },
  {
   "cell_type": "markdown",
   "metadata": {},
   "source": [
    "### Set upper seismogenic depth"
   ]
  },
  {
   "cell_type": "code",
   "execution_count": null,
   "metadata": {},
   "outputs": [],
   "source": [
    "oqtkp = OQtProject.load_from_file(project_pickle_filename)\n",
    "model = oqtkp.models[model_id]\n",
    "model.upper_seismogenic_depth = 0.0\n",
    "model.lower_seismogenic_depth = 25.0\n",
    "oqtkp.save()\n",
    "\n",
    "nb_name = 'set_upper_seismogenic_depth.ipynb'\n",
    "nb_path = 'openquake/mbt/notebooks/sources_area'\n",
    "nb_full_path = os.path.join(tk_path, nb_path, nb_name)\n",
    "out = nb.run(nb_full_path, '')\n",
    "processing_out(out)\n",
    "time_cell = get_time(time_start, time_cell)"
   ]
  },
  {
   "cell_type": "markdown",
   "metadata": {},
   "source": [
    "### Compute MFD from seismicity"
   ]
  },
  {
   "cell_type": "code",
   "execution_count": null,
   "metadata": {},
   "outputs": [],
   "source": [
    "get_src_ids = GetSourceIDs(model)\n",
    "get_src_ids.keep_equal_to('source_type', ['AreaSource'])\n",
    "nb_name = 'compute_double_truncated_GR_from_seismicity.ipynb'\n",
    "nb_path = 'openquake/mbt/notebooks/sources_area'\n",
    "nb_full_path = os.path.join(tk_path, nb_path, nb_name)\n",
    "out = automator.run(project_pickle_filename, model_id, nb_full_path, get_src_ids.keys,\n",
    "                    reports_folder=reports_folder)\n",
    "processing_out(out)\n",
    "time_cell = get_time(time_start, time_cell)"
   ]
  },
  {
   "cell_type": "markdown",
   "metadata": {},
   "source": [
    "### Hypocentral depth analysis"
   ]
  },
  {
   "cell_type": "markdown",
   "metadata": {},
   "source": [
    "keep_keys = []\n",
    "for key in get_src_ids.keys:\n",
    "    if key.find('sf_') == -1:\n",
    "        keep_keys.append(key)\n",
    "print(keep_keys)"
   ]
  },
  {
   "cell_type": "code",
   "execution_count": null,
   "metadata": {},
   "outputs": [],
   "source": [
    "oqtkp = OQtProject.load_from_file(project_pickle_filename)\n",
    "model = oqtkp.models[model_id]\n",
    "model.hypo_depth_bin_edges = [0, 7, 15, 25]\n",
    "model.hypo_dist_filename = 'hypo_depths.hdf5'\n",
    "oqtkp.save()\n",
    "\n",
    "if True:\n",
    "    get_src_ids = GetSourceIDs(model)\n",
    "    get_src_ids.keep_equal_to('source_type', ['AreaSource'])\n",
    "    nb_name = 'compute_hypocentral_depth_distribution.ipynb'\n",
    "    nb_path = 'openquake/mbt/notebooks/sources_area'\n",
    "    nb_full_path = os.path.join(tk_path, nb_path, nb_name)\n",
    "    out = automator.run(project_pickle_filename, model_id, nb_full_path, get_src_ids.keys,\n",
    "                        reports_folder=reports_folder)\n",
    "    processing_out(out)\n",
    "    time_cell = get_time(time_start, time_cell)"
   ]
  },
  {
   "cell_type": "markdown",
   "metadata": {},
   "source": [
    "#### Load hypocentral depths from .csv files"
   ]
  },
  {
   "cell_type": "code",
   "execution_count": null,
   "metadata": {},
   "outputs": [],
   "source": [
    "get_src_ids = GetSourceIDs(model)\n",
    "get_src_ids.keep_equal_to('source_type', ['AreaSource'])\n",
    "nb_name = 'load_hypocentral_depth_distribution_from_csv.ipynb'\n",
    "nb_path = 'openquake/mbt/notebooks/sources_area'\n",
    "nb_full_path = os.path.join(tk_path, nb_path, nb_name)\n",
    "out = automator.run(project_pickle_filename, model_id, nb_full_path, get_src_ids.keys,\n",
    "                    reports_folder='')\n",
    "processing_out(out)\n",
    "time_cell = get_time(time_start, time_cell)"
   ]
  },
  {
   "cell_type": "markdown",
   "metadata": {},
   "source": [
    "### Focal mechanism analysis"
   ]
  },
  {
   "cell_type": "code",
   "execution_count": null,
   "metadata": {},
   "outputs": [],
   "source": [
    "oqtkp = OQtProject.load_from_file(project_pickle_filename)\n",
    "model = oqtkp.models[model_id]\n",
    "model.nodal_plane_dist_filename='{:s}_nodal_plane_dist.hdf5'.format(model_id)\n",
    "oqtkp.save()"
   ]
  },
  {
   "cell_type": "code",
   "execution_count": null,
   "metadata": {},
   "outputs": [],
   "source": [
    "if True:\n",
    "    get_src_ids = GetSourceIDs(model)\n",
    "    get_src_ids.keep_equal_to('source_type', ['AreaSource'])\n",
    "    nb_name = 'compute_focal_mechanism_distribution.ipynb'\n",
    "    nb_path = 'openquake/mbt/notebooks/sources_area'\n",
    "    nb_full_path = os.path.join(tk_path, nb_path, nb_name)\n",
    "    out = automator.run(project_pickle_filename, model_id, nb_full_path, get_src_ids.keys,\n",
    "                        reports_folder=reports_folder)\n",
    "    processing_out(out)\n",
    "    time_cell = get_time(time_start, time_cell)"
   ]
  },
  {
   "cell_type": "markdown",
   "metadata": {},
   "source": [
    "#### Load nodal plane distribution from .csv files"
   ]
  },
  {
   "cell_type": "code",
   "execution_count": null,
   "metadata": {},
   "outputs": [],
   "source": [
    "time_start = time.time()\n",
    "get_src_ids = GetSourceIDs(model)\n",
    "get_src_ids.keep_equal_to('source_type', ['AreaSource'])\n",
    "nb_name = 'load_nodal_plane_distribution_from_csv.ipynb'\n",
    "nb_path = 'openquake/mbt/notebooks/sources_area'\n",
    "nb_full_path = os.path.join(tk_path, nb_path, nb_name)\n",
    "out = automator.run(project_pickle_filename, model_id, nb_full_path, get_src_ids.keys,\n",
    "                    reports_folder='')\n",
    "processing_out(out)\n",
    "time_cell = get_time(time_start, time_cell)"
   ]
  },
  {
   "cell_type": "markdown",
   "metadata": {},
   "source": [
    "### Set the MFD for each area source"
   ]
  },
  {
   "cell_type": "code",
   "execution_count": null,
   "metadata": {},
   "outputs": [],
   "source": [
    "oqtkp = OQtProject.load_from_file(project_pickle_filename)\n",
    "model = oqtkp.models[model_id]\n",
    "model.magnitude_max_delta = 0.5\n",
    "oqtkp.save()\n",
    "\n",
    "time_start = time.time()\n",
    "get_src_ids = GetSourceIDs(model)\n",
    "get_src_ids.keep_equal_to('source_type', ['AreaSource'])\n",
    "nb_name = 'set_mem_from_seismicity_max_obs_plus_delta.ipynb'\n",
    "nb_path = 'openquake/mbt/notebooks/sources_area'\n",
    "nb_full_path = os.path.join(tk_path, nb_path, nb_name)\n",
    "out = automator.run(project_pickle_filename, model_id, nb_full_path, get_src_ids.keys,\n",
    "                    reports_folder=reports_folder)\n",
    "processing_out(out)\n",
    "time_cell = get_time(time_start, time_cell)"
   ]
  },
  {
   "cell_type": "code",
   "execution_count": null,
   "metadata": {},
   "outputs": [],
   "source": [
    "oqtkp = OQtProject.load_from_file(project_pickle_filename)\n",
    "model = oqtkp.models[model_id]\n",
    "model.m_min = 4.5\n",
    "oqtkp.save()\n",
    "#\n",
    "time_start = time.time()\n",
    "get_src_ids = GetSourceIDs(model)\n",
    "get_src_ids.keep_equal_to('source_type', ['AreaSource'])\n",
    "nb_name = 'set_mfd_double_truncated_GR.ipynb'\n",
    "nb_path = 'openquake/mbt/notebooks/sources_area'\n",
    "nb_full_path = os.path.join(tk_path, nb_path, nb_name)\n",
    "out = automator.run(project_pickle_filename, model_id, nb_full_path, get_src_ids.keys,\n",
    "                    reports_folder='')\n",
    "processing_out(out)\n",
    "time_cell = get_time(time_start, time_cell)"
   ]
  },
  {
   "cell_type": "markdown",
   "metadata": {},
   "source": [
    "### GR parameters"
   ]
  },
  {
   "cell_type": "code",
   "execution_count": null,
   "metadata": {},
   "outputs": [],
   "source": [
    "from openquake.mbt.tools.area import create_gr_table\n",
    "oqtkp = OQtProject.load_from_file(project_pickle_filename)\n",
    "model_id = oqtkp.active_model_id\n",
    "model = oqtkp.models[model_id]\n",
    "print(create_gr_table(model))\n",
    "time_cell = get_time(time_start, time_cell)"
   ]
  },
  {
   "cell_type": "code",
   "execution_count": null,
   "metadata": {},
   "outputs": [],
   "source": [
    "oqtkp = OQtProject.load_from_file(project_pickle_filename)\n",
    "model = oqtkp.models[model_id]\n",
    "for key in sorted(model.sources):\n",
    "    if model.sources[key].source_type == 'AreaSource':\n",
    "        src = model.sources[key]\n",
    "        src.tectonic_region_type = TRT.ACTIVE_SHALLOW_CRUST\n",
    "        model.sources[key] = src\n",
    "oqtkp.save()      "
   ]
  },
  {
   "cell_type": "code",
   "execution_count": null,
   "metadata": {},
   "outputs": [],
   "source": [
    "oqtkp = OQtProject.load_from_file(project_pickle_filename)\n",
    "model = oqtkp.models[model_id]\n",
    "model.area_discretization = 10.0\n",
    "model.smoothing_param = [['gaussian', 50, 20, 0.95], ['gaussian', 20,  5, 0.05]]\n",
    "# model.catalogue_smoothing = \n",
    "oqtkp.save()\n",
    "\n",
    "time_start = time.time()\n",
    "get_src_ids = GetSourceIDs(model)\n",
    "get_src_ids.keep_equal_to('source_type', ['AreaSource'])\n",
    "nb_name = 'create_sources_no_faults.ipynb'\n",
    "nb_path = 'openquake/mbt/notebooks/sources_distributed_s'\n",
    "nb_full_path = os.path.join(tk_path, nb_path, nb_name)\n",
    "out = automator.run(project_pickle_filename, model_id, nb_full_path, get_src_ids.keys,\n",
    "                    reports_folder=reports_folder)\n",
    "processing_out(out)\n",
    "time_cell = get_time(time_start, time_cell)"
   ]
  },
  {
   "cell_type": "code",
   "execution_count": null,
   "metadata": {},
   "outputs": [],
   "source": []
  }
 ],
 "metadata": {
  "kernelspec": {
   "display_name": "Python 3",
   "language": "python",
   "name": "python3"
  },
  "language_info": {
   "codemirror_mode": {
    "name": "ipython",
    "version": 3
   },
   "file_extension": ".py",
   "mimetype": "text/x-python",
   "name": "python",
   "nbconvert_exporter": "python",
   "pygments_lexer": "ipython3",
   "version": "3.6.8"
  }
 },
 "nbformat": 4,
 "nbformat_minor": 2
}
