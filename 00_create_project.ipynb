{
 "cells": [
  {
   "cell_type": "markdown",
   "metadata": {},
   "source": [
    "# Create a MBTK project\n",
    "This notebook creates the initial structure of a Model Building Toolkit (oq-mbt) Project. It consists of a main project folder, a number of files and subfolders. \n",
    "\n",
    "The files initialised are:\n",
    "- `test.oqmbtp` - This is the file containing the main information aboout a project;\n",
    "- `completeness.hdf5` - In this file we store source-specific catalogue completeness information;\n",
    "- `eqk_rates.hdf5` - The file where we store information on occurrence for all the sources in the source models considered;\n",
    "- `hypo_close_to_faults.hdf5` - This file is used to store information about the proximity of earthquakes to fault sources;\n",
    "- `hypo_depths.hdf5` - Hypocentral depth distributions\n",
    "\n",
    "The folders created are:\n",
    "- `focal_mechs`\n",
    "- `hypo_depths`"
   ]
  },
  {
   "cell_type": "code",
   "execution_count": null,
   "metadata": {},
   "outputs": [],
   "source": [
    "import os\n",
    "import openquake.mbt as mbt\n",
    "from openquake.mbt.oqt_project import OQtProject\n",
    "from openquake.mbt.notebooks.project.project_create import create_default_files"
   ]
  },
  {
   "cell_type": "code",
   "execution_count": null,
   "metadata": {},
   "outputs": [],
   "source": [
    "project_dir = os.path.abspath('./project')\n",
    "project_name = 'test'\n",
    "print('Project directory : %s' % (project_dir))\n",
    "print('Project name      : %s' % (project_name))"
   ]
  },
  {
   "cell_type": "code",
   "execution_count": null,
   "metadata": {},
   "outputs": [],
   "source": [
    "if os.path.exists(project_dir):\n",
    "    raise BaseException('Project folder exists')\n",
    "else:\n",
    "    os.mkdir(project_dir)"
   ]
  },
  {
   "cell_type": "code",
   "execution_count": null,
   "metadata": {},
   "outputs": [],
   "source": [
    "prj = OQtProject(project_name, project_dir)\n",
    "project_filename = os.path.join(project_dir, prj._get_filename())\n",
    "create_default_files(prj, project_dir)\n",
    "prj.save()"
   ]
  },
  {
   "cell_type": "code",
   "execution_count": null,
   "metadata": {},
   "outputs": [],
   "source": []
  }
 ],
 "metadata": {
  "kernelspec": {
   "display_name": "Python 3",
   "language": "python",
   "name": "python3"
  },
  "language_info": {
   "codemirror_mode": {
    "name": "ipython",
    "version": 3
   },
   "file_extension": ".py",
   "mimetype": "text/x-python",
   "name": "python",
   "nbconvert_exporter": "python",
   "pygments_lexer": "ipython3",
   "version": "3.6.8"
  }
 },
 "nbformat": 4,
 "nbformat_minor": 2
}
